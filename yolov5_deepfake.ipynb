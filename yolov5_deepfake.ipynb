{
  "nbformat": 4,
  "nbformat_minor": 0,
  "metadata": {
    "colab": {
      "provenance": []
    },
    "kernelspec": {
      "name": "python3",
      "display_name": "Python 3"
    },
    "language_info": {
      "name": "python"
    }
  },
  "cells": [
    {
      "cell_type": "code",
      "execution_count": null,
      "metadata": {
        "id": "30wyg2y5em1J"
      },
      "outputs": [],
      "source": [
        "# 將 Google Drive 掛載到 Colab 目錄下\n",
        "from google.colab import drive\n",
        "drive.mount('/content/gdrive', force_remount=True)"
      ]
    },
    {
      "cell_type": "code",
      "source": [
        "%cd \"/content/gdrive/MyDrive/\""
      ],
      "metadata": {
        "id": "mIKXs5mVbu8F"
      },
      "execution_count": null,
      "outputs": []
    },
    {
      "cell_type": "code",
      "source": [
        "!git clone https://github.com/aiya714/detect_deepfake.git"
      ],
      "metadata": {
        "id": "xUGfHP-2P-uh"
      },
      "execution_count": null,
      "outputs": []
    },
    {
      "cell_type": "code",
      "source": [
        "# 掛載到Google Drive，則自己選擇路徑\n",
        "%cd \"/content/gdrive/MyDrive/detect_deepfake\"\n",
        "!ls"
      ],
      "metadata": {
        "id": "2RIbvxN97br2"
      },
      "execution_count": null,
      "outputs": []
    },
    {
      "cell_type": "code",
      "source": [
        "# 新增權重資料夾\n",
        "!mkdir weights"
      ],
      "metadata": {
        "id": "CUxujK4-Q5hg"
      },
      "execution_count": 7,
      "outputs": []
    },
    {
      "cell_type": "code",
      "source": [
        "# 下載權重 1.5倍的label大小\n",
        "%cd '/content/gdrive/MyDrive/detect_deepfake/weights'\n",
        "!wget https://github.com/aiya714/detect_deepfake/releases/download/weights/15_best.pt"
      ],
      "metadata": {
        "id": "SkkViGFNd7pL"
      },
      "execution_count": null,
      "outputs": []
    },
    {
      "cell_type": "code",
      "source": [
        "# 下載權重 1.5倍的label大小\n",
        "%cd '/content/gdrive/MyDrive/detect_deepfake/weights'\n",
        "!wget https://github.com/aiya714/detect_deepfake/releases/download/weights/16_best.pt"
      ],
      "metadata": {
        "id": "aCoDA7B7d9MM"
      },
      "execution_count": null,
      "outputs": []
    },
    {
      "cell_type": "markdown",
      "source": [
        "**Usage - sources** \\\n",
        " 0  :  webcam \\\n",
        " img.jpg  :  image \\\n",
        " vid.mp4  :  video \\\n",
        " path/  :  directory \\\n",
        " 'path/*.jpg  :  glob \\\n",
        " 'https://youtu.be/Zgi9g1ksQHc'  :  YouTube \\\n",
        " 'rtsp://example.com/media.mp4'  :  RTSP, RTMP, HTTP stream"
      ],
      "metadata": {
        "id": "Yq4RrOAOWXmI"
      }
    },
    {
      "cell_type": "code",
      "source": [
        "%cd /content/gdrive/MyDrive/detect_deepfake\n",
        "!python detect.py \\\n",
        "--weights '/content/gdrive/MyDrive/detect_deepfake/weights/15_best.pt' \\\n",
        "--source '/content/gdrive/MyDrive/detect_deepfake/data/2022-11-23 (4).png' \\\n",
        "--name exp1"
      ],
      "metadata": {
        "id": "WmT0mPj1yiJe"
      },
      "execution_count": null,
      "outputs": []
    }
  ]
}